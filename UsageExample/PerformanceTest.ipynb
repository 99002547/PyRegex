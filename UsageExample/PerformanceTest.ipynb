{
 "cells": [
  {
   "cell_type": "code",
   "execution_count": 50,
   "metadata": {
    "collapsed": true
   },
   "outputs": [],
   "source": [
    "import re\n",
    "import time"
   ]
  },
  {
   "cell_type": "code",
   "execution_count": 51,
   "metadata": {
    "collapsed": false
   },
   "outputs": [],
   "source": [
    " def module_method_repetition_test():\n",
    "    # Single Pattern. 10000 iteration - Good performance\n",
    "    pattern = r\"(?P<year>\\d{4})(?P<month>\\d{2})(?P<day>\\d{2})(?P<hour>\\d{2})?\"\n",
    "    text = \"Timestamp=20160502\"\n",
    "    \n",
    "    pass_count = 0\n",
    "    fail_count = 0\n",
    "    \n",
    "    start_time = time.time()\n",
    "    \n",
    "    for i in range(0,10000):\n",
    "        match = re.search(pattern, text)\n",
    "    \n",
    "        if match:\n",
    "            pass_count += 1\n",
    "        else:\n",
    "            fail_count +=1\n",
    "\n",
    "    print ('Elapsed Time: {0:.2f}s, pass:{1}, fail:{2}'.format(\n",
    "            time.time() - start_time, pass_count, fail_count))"
   ]
  },
  {
   "cell_type": "code",
   "execution_count": 52,
   "metadata": {
    "collapsed": false
   },
   "outputs": [
    {
     "name": "stdout",
     "output_type": "stream",
     "text": [
      "Elapsed Time: 0.06s, pass:10000, fail:0\n"
     ]
    }
   ],
   "source": [
    "module_method_repetition_test()"
   ]
  },
  {
   "cell_type": "code",
   "execution_count": null,
   "metadata": {
    "collapsed": true
   },
   "outputs": [],
   "source": []
  },
  {
   "cell_type": "code",
   "execution_count": 53,
   "metadata": {
    "collapsed": true
   },
   "outputs": [],
   "source": [
    "def module_method_cache_pattern_repetition_test(pattern_count):\n",
    "    # 10000 iteration\n",
    "    \n",
    "    pattern_prefix = r\"(?P<year>\\d{4})(?P<month>\\d{2})(?P<day>\\d{2})\"\n",
    "    pattern_list = list()\n",
    "    \n",
    "    for i in range(0,pattern_count):\n",
    "        pattern_list.append(pattern_prefix + str(i))\n",
    "        \n",
    "    \n",
    "    text = \"Timestamp=20160502\"\n",
    "    \n",
    "    pass_count = 0\n",
    "    fail_count = 0\n",
    "    \n",
    "    start_time = time.time()\n",
    "    \n",
    "    for i in range(0,10000):\n",
    "        selected = i % pattern_count\n",
    "        #print (pattern_list[selected], text + str(selected))\n",
    "        match = re.search(pattern_list[selected], text + str(selected))\n",
    "    \n",
    "        if match:\n",
    "            pass_count += 1\n",
    "        else:\n",
    "            fail_count +=1\n",
    "\n",
    "    print ('Elapsed Time: {0:.2f}s, pass:{1}, fail:{2}'.format(\n",
    "            time.time() - start_time, pass_count, fail_count))"
   ]
  },
  {
   "cell_type": "code",
   "execution_count": 54,
   "metadata": {
    "collapsed": false
   },
   "outputs": [
    {
     "name": "stdout",
     "output_type": "stream",
     "text": [
      "Elapsed Time: 0.09s, pass:10000, fail:0\n"
     ]
    }
   ],
   "source": [
    "module_method_cache_pattern_repetition_test(10)"
   ]
  },
  {
   "cell_type": "code",
   "execution_count": 55,
   "metadata": {
    "collapsed": false
   },
   "outputs": [
    {
     "name": "stdout",
     "output_type": "stream",
     "text": [
      "Elapsed Time: 0.46s, pass:10000, fail:0\n"
     ]
    }
   ],
   "source": [
    "module_method_cache_pattern_repetition_test(512)"
   ]
  },
  {
   "cell_type": "code",
   "execution_count": 56,
   "metadata": {
    "collapsed": false
   },
   "outputs": [
    {
     "name": "stdout",
     "output_type": "stream",
     "text": [
      "Elapsed Time: 4.12s, pass:10000, fail:0\n"
     ]
    }
   ],
   "source": [
    "module_method_cache_pattern_repetition_test(513)"
   ]
  },
  {
   "cell_type": "code",
   "execution_count": null,
   "metadata": {
    "collapsed": true
   },
   "outputs": [],
   "source": []
  },
  {
   "cell_type": "code",
   "execution_count": 60,
   "metadata": {
    "collapsed": true
   },
   "outputs": [],
   "source": [
    "def compiled_method_appcache_repetition_test(pattern_count):\n",
    "    # Cache Size 10000 iteration\n",
    "    \n",
    "    pattern_prefix = r\"(?P<year>\\d{4})(?P<month>\\d{2})(?P<day>\\d{2})\"\n",
    "    pattern_object = list()\n",
    "\n",
    "    \n",
    "    for i in range(0,pattern_count):\n",
    "        pattern_object.append(re.compile(pattern_prefix + str(i)))\n",
    "        \n",
    "    print(len(pattern_object))\n",
    "    \n",
    "    text = \"Timestamp=20160502\"\n",
    "    \n",
    "    pass_count = 0\n",
    "    fail_count = 0\n",
    "    \n",
    "    start_time = time.time()\n",
    "    \n",
    "    for i in range(0,10000):\n",
    "        selected = i % pattern_count\n",
    "        #print (pattern_list[selected], text + str(selected))\n",
    "        match = pattern_object[selected].search(text + str(selected))\n",
    "    \n",
    "        if match:\n",
    "            pass_count += 1\n",
    "        else:\n",
    "            fail_count +=1\n",
    "\n",
    "    print ('Elapsed Time: {0:.2f}s, pass:{1}, fail:{2}'.format(\n",
    "            time.time() - start_time, pass_count, fail_count))"
   ]
  },
  {
   "cell_type": "code",
   "execution_count": 61,
   "metadata": {
    "collapsed": false
   },
   "outputs": [
    {
     "name": "stdout",
     "output_type": "stream",
     "text": [
      "10\n",
      "Elapsed Time: 0.06s, pass:10000, fail:0\n"
     ]
    }
   ],
   "source": [
    "compiled_method_appcache_repetition_test(10)"
   ]
  },
  {
   "cell_type": "code",
   "execution_count": 62,
   "metadata": {
    "collapsed": false
   },
   "outputs": [
    {
     "name": "stdout",
     "output_type": "stream",
     "text": [
      "515\n",
      "Elapsed Time: 0.04s, pass:10000, fail:0\n"
     ]
    }
   ],
   "source": [
    "compiled_method_appcache_repetition_test(515)"
   ]
  },
  {
   "cell_type": "code",
   "execution_count": null,
   "metadata": {
    "collapsed": true
   },
   "outputs": [],
   "source": []
  }
 ],
 "metadata": {
  "kernelspec": {
   "display_name": "Python 3",
   "language": "python",
   "name": "python3"
  },
  "language_info": {
   "codemirror_mode": {
    "name": "ipython",
    "version": 3
   },
   "file_extension": ".py",
   "mimetype": "text/x-python",
   "name": "python",
   "nbconvert_exporter": "python",
   "pygments_lexer": "ipython3",
   "version": "3.5.1"
  }
 },
 "nbformat": 4,
 "nbformat_minor": 0
}
