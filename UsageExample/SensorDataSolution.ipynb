{
 "cells": [
  {
   "cell_type": "code",
   "execution_count": 4,
   "metadata": {},
   "outputs": [],
   "source": [
    "import json\n",
    "from json import JSONEncoder\n",
    "import re\n",
    "import time\n",
    "import datetime"
   ]
  },
  {
   "cell_type": "code",
   "execution_count": 5,
   "metadata": {},
   "outputs": [],
   "source": [
    "class SensorData:\n",
    "    def __init__(self):\n",
    "        self.date = '' # day for which data is stored\n",
    "        self.sensor = {} # dictionary of parameter and List of values"
   ]
  },
  {
   "cell_type": "code",
   "execution_count": 6,
   "metadata": {},
   "outputs": [],
   "source": [
    "class MyEncoder(JSONEncoder):\n",
    "    def default(self, o):\n",
    "        return o.__dict__ \n",
    "# http://stackoverflow.com/questions/3768895/how-to-make-a-class-json-serializable    "
   ]
  },
  {
   "cell_type": "code",
   "execution_count": 16,
   "metadata": {},
   "outputs": [],
   "source": [
    "def parse_sensor_data_test(file_name):\n",
    "    start_time = time.time()    \n",
    "    \n",
    "    PATTERN_HEADER = r'(?m)^(?P<year>\\d{4})(?P<month>\\d{2})(?P<day>\\d{2})'\n",
    "    PATTERN_DATA = r'(?m)(?P<temperature>\\d{4}|NNNN)(?P<humidity>\\d{3}|NNN)'\n",
    "    \n",
    "    sensor_data_regex = re.compile(PATTERN_DATA)\n",
    "    \n",
    "    all_data = []\n",
    "    \n",
    "    with open(file_name,'r', encoding='utf-8') as rdr:            \n",
    "        for line in rdr:\n",
    "            # One row contains a day worth of data\n",
    "            sensor_data = SensorData()\n",
    "            sensor_data.sensor['temperature'] = []\n",
    "            sensor_data.sensor['humidity'] = []\n",
    "            \n",
    "            match = re.search(PATTERN_HEADER, line)\n",
    "\n",
    "            if match:\n",
    "                sensor_data.date = \\\n",
    "                    '-'.join([match.group('year'),match.group('month'),match.group('day')])\n",
    "                \n",
    "                header_len = len(match.group(0))\n",
    "                \n",
    "                # compiled object - you can search from specific point in text\n",
    "                #  skip the header portion and look for temperature-humdity pairs\n",
    "                match_iter = sensor_data_regex.finditer(line,header_len)\n",
    "                \n",
    "                for match in match_iter:\n",
    "                    # access temperature and humidity groups\n",
    "                    sensor_data.sensor['temperature'].append(match.group('temperature'))\n",
    "                    sensor_data.sensor['humidity'].append(match.group('humidity'))                    \n",
    "\n",
    "                all_data.append(sensor_data)\n",
    "        \n",
    "        print ('Elapsed Time For Parsing: {0:.2f}s'.format(time.time()-start_time))\n",
    "        \n",
    "        with open(file_name+'.json','w', encoding='utf-8') as wr:\n",
    "            json.dump(all_data, wr, ensure_ascii=False, cls=MyEncoder, indent=True)\n",
    "            \n",
    "        print ('Elapsed Time After Write to File : {0:.2f}s'.format(time.time()-start_time))"
   ]
  },
  {
   "cell_type": "code",
   "execution_count": 22,
   "metadata": {},
   "outputs": [
    {
     "name": "stdout",
     "output_type": "stream",
     "text": [
      "Elapsed Time For Parsing: 0.02s\n",
      "Elapsed Time After Write to File : 0.06s\n"
     ]
    }
   ],
   "source": [
    "file_name =  r\"..\\Data\\SensorData\\sensordata_7days.txt\"\n",
    "parse_sensor_data_test(file_name)"
   ]
  },
  {
   "cell_type": "code",
   "execution_count": null,
   "metadata": {},
   "outputs": [],
   "source": []
  }
 ],
 "metadata": {
  "kernelspec": {
   "display_name": "Python 3",
   "language": "python",
   "name": "python3"
  },
  "language_info": {
   "codemirror_mode": {
    "name": "ipython",
    "version": 3
   },
   "file_extension": ".py",
   "mimetype": "text/x-python",
   "name": "python",
   "nbconvert_exporter": "python",
   "pygments_lexer": "ipython3",
   "version": "3.7.4"
  }
 },
 "nbformat": 4,
 "nbformat_minor": 1
}
