{
 "cells": [
  {
   "cell_type": "code",
   "execution_count": 1,
   "metadata": {},
   "outputs": [],
   "source": [
    "import re\n",
    "import time\n",
    "import datetime"
   ]
  },
  {
   "cell_type": "code",
   "execution_count": 2,
   "metadata": {},
   "outputs": [],
   "source": [
    "def parse_health_data_test(file_name):    \n",
    "    # TODO: Code to process healthcare data\n",
    "    return"
   ]
  },
  {
   "cell_type": "code",
   "execution_count": 3,
   "metadata": {},
   "outputs": [
    {
     "name": "stdout",
     "output_type": "stream",
     "text": [
      "****..\\Data\\HealthData\\problems.html\n",
      "Elapsed Time : 0.01s\n",
      "****..\\Data\\HealthData\\labresults.html\n",
      "Elapsed Time : 0.01s\n"
     ]
    }
   ],
   "source": [
    "files =[r\"..\\Data\\HealthData\\problems.html\",\n",
    "        r\"..\\Data\\HealthData\\labresults.html\"]\n",
    "for file_name in files:\n",
    "    print('****{0}'.format(file_name))\n",
    "    parse_health_data_test(file_name)"
   ]
  },
  {
   "cell_type": "code",
   "execution_count": null,
   "metadata": {},
   "outputs": [],
   "source": []
  }
 ],
 "metadata": {
  "kernelspec": {
   "display_name": "Python 3",
   "language": "python",
   "name": "python3"
  },
  "language_info": {
   "codemirror_mode": {
    "name": "ipython",
    "version": 3
   },
   "file_extension": ".py",
   "mimetype": "text/x-python",
   "name": "python",
   "nbconvert_exporter": "python",
   "pygments_lexer": "ipython3",
   "version": "3.7.4"
  }
 },
 "nbformat": 4,
 "nbformat_minor": 1
}
